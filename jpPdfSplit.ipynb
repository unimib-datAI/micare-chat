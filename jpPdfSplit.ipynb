{
 "cells": [
  {
   "cell_type": "code",
   "execution_count": 51,
   "metadata": {},
   "outputs": [
    {
     "name": "stdout",
     "output_type": "stream",
     "text": [
      "205\n"
     ]
    }
   ],
   "source": [
    "#%pip install PyPDF2\n",
    "from PyPDF2 import PdfReader\n",
    "\n",
    "reader = PdfReader('c:/tmp/input/c06.pdf')\n",
    "f = open(\"c:/tmp/input/c06.txt\", \"w\", encoding=\"utf-8\")\n",
    "print(len(reader.pages))\n",
    "for i in range (1,len(reader.pages)):\n",
    "    extracted_text = reader.pages[i].extract_text()\n",
    "    f.write(extracted_text)\n",
    "\n",
    "f.close()\n",
    "#print(extracted_text)"
   ]
  },
  {
   "cell_type": "code",
   "execution_count": 77,
   "metadata": {},
   "outputs": [],
   "source": [
    "import re\n",
    "from pathlib import Path\n",
    "import os\n",
    "\n",
    "f = open(\"c:/tmp/input/c06.txt\", \"r\", encoding=\"utf-8\")\n",
    "text = f.read()\n",
    "splitted = re.split(\".*6[A-D][A-Za-z0-9]{2}.{1}‑6[A-D][A-Za-z0-9]{2}.{1}\",text)\n",
    "charapters = re.findall(\".*6[A-D][A-Za-z0-9]{2}.{1}‑6[A-D][A-Za-z0-9]{2}.{1}\",text)\n",
    "for i in range (len(charapters)):\n",
    "    path = f\"c:/tmp/output/{i}-{charapters[i]}/body.txt\"\n",
    "    outputFile = Path(path)\n",
    "    outputFile.parent.mkdir(exist_ok=True, parents=True)\n",
    "    with open(path,\"a+\",encoding=\"utf-8\") as f:\n",
    "        f.write(splitted[i+1])\n",
    "    with open(path,\"r\",encoding=\"utf-8\") as f:\n",
    "        body = f.read()\n",
    "        splittedBody = re.split(\"6[A-Z]{1}[A-Za-z0-9]{2}\\.[0-9]{1,2}.*\",body)\n",
    "        subCharapters = re.findall(\"6[A-Z]{1}[A-Za-z0-9]{2}\\.[0-9]{1,2}.*\",body)\n",
    "        for k in range (len(subCharapters)):\n",
    "            subPath = f\"c:/tmp/output/{i}-{charapters[i]}/{k}-{subCharapters[k]}.txt\"\n",
    "            with open(subPath,\"a+\",encoding=\"utf-8\") as subF:\n",
    "                subF.write(f\"{subCharapters[k]}\\n\\n{splittedBody[k]}\")\n",
    "    if len(subCharapters)>0:\n",
    "        os.remove(path)\n",
    "\n",
    "\n"
   ]
  }
 ],
 "metadata": {
  "kernelspec": {
   "display_name": "Python 3",
   "language": "python",
   "name": "python3"
  },
  "language_info": {
   "codemirror_mode": {
    "name": "ipython",
    "version": 3
   },
   "file_extension": ".py",
   "mimetype": "text/x-python",
   "name": "python",
   "nbconvert_exporter": "python",
   "pygments_lexer": "ipython3",
   "version": "3.11.9"
  }
 },
 "nbformat": 4,
 "nbformat_minor": 2
}
